{
 "cells": [
  {
   "cell_type": "markdown",
   "metadata": {},
   "source": [
    "## Load MNIST on Python 3.x"
   ]
  },
  {
   "cell_type": "code",
   "execution_count": 56,
   "metadata": {},
   "outputs": [],
   "source": [
    "import pickle\n",
    "import gzip\n",
    "from sklearn import svm\n",
    "from sklearn.metrics import accuracy_score\n",
    "from sklearn.model_selection import GridSearchCV\n",
    "from sklearn.ensemble import RandomForestClassifier\n",
    "from tqdm import tqdm_notebook\n",
    "from matplotlib import pyplot as plt"
   ]
  },
  {
   "cell_type": "code",
   "execution_count": 2,
   "metadata": {},
   "outputs": [],
   "source": [
    "filename = 'mnist.pkl.gz'\n",
    "f = gzip.open(filename, 'rb')\n",
    "training_data, validation_data, test_data = pickle.load(f, encoding='latin1')\n",
    "f.close()"
   ]
  },
  {
   "cell_type": "markdown",
   "metadata": {},
   "source": [
    "## Load USPS on Python 3.x"
   ]
  },
  {
   "cell_type": "code",
   "execution_count": 3,
   "metadata": {},
   "outputs": [],
   "source": [
    "from PIL import Image\n",
    "import os\n",
    "import numpy as np"
   ]
  },
  {
   "cell_type": "code",
   "execution_count": 4,
   "metadata": {},
   "outputs": [],
   "source": [
    "USPSMat  = []\n",
    "USPSTar  = []\n",
    "curPath  = 'USPSdata/Numerals'\n",
    "savedImg = []\n",
    "\n",
    "for j in range(0,10):\n",
    "    curFolderPath = curPath + '/' + str(j)\n",
    "    imgs =  os.listdir(curFolderPath)\n",
    "    for img in imgs:\n",
    "        curImg = curFolderPath + '/' + img\n",
    "        if curImg[-3:] == 'png':\n",
    "            img = Image.open(curImg,'r')\n",
    "            img = img.resize((28, 28))\n",
    "            savedImg = img\n",
    "            imgdata = (255-np.array(img.getdata()))/255\n",
    "            USPSMat.append(imgdata)\n",
    "            USPSTar.append(j)"
   ]
  },
  {
   "cell_type": "code",
   "execution_count": 5,
   "metadata": {},
   "outputs": [],
   "source": [
    "def getOneHot(y):\n",
    "    y_OH = np.zeros((y.shape[0],10))\n",
    "    for i in range(y.shape[0]):\n",
    "        y_OH[i,y[i]]=1\n",
    "    return y_OH\n",
    "\n",
    "def one_hot_sanity_check(y,y_OH):\n",
    "    for i in range(y.shape[0]):\n",
    "        if np.argmax(y_OH[i])!=y[i]:\n",
    "            print('sanity check failed at index: '+str(i))\n",
    "            return False\n",
    "    return True"
   ]
  },
  {
   "cell_type": "code",
   "execution_count": null,
   "metadata": {},
   "outputs": [],
   "source": []
  },
  {
   "cell_type": "code",
   "execution_count": 6,
   "metadata": {},
   "outputs": [],
   "source": [
    "X_train, y_train = training_data\n",
    "X_cv, y_cv = validation_data\n",
    "X_test, y_test = test_data"
   ]
  },
  {
   "cell_type": "code",
   "execution_count": 7,
   "metadata": {},
   "outputs": [],
   "source": [
    "y_train_OH = getOneHot(y_train)"
   ]
  },
  {
   "cell_type": "code",
   "execution_count": 34,
   "metadata": {},
   "outputs": [],
   "source": [
    "X_USPS = np.array(USPSMat)\n",
    "y_USPS = np.array(USPSTar)\n"
   ]
  },
  {
   "cell_type": "code",
   "execution_count": 18,
   "metadata": {},
   "outputs": [],
   "source": [
    "svm_model = svm.SVC(kernel='rbf',C=100,gamma=0.001)"
   ]
  },
  {
   "cell_type": "code",
   "execution_count": 19,
   "metadata": {},
   "outputs": [
    {
     "data": {
      "text/plain": [
       "SVC(C=100, cache_size=200, class_weight=None, coef0=0.0,\n",
       "  decision_function_shape='ovr', degree=3, gamma=0.001, kernel='rbf',\n",
       "  max_iter=-1, probability=False, random_state=None, shrinking=True,\n",
       "  tol=0.001, verbose=False)"
      ]
     },
     "execution_count": 19,
     "metadata": {},
     "output_type": "execute_result"
    }
   ],
   "source": [
    "svm_model.fit(X_train,y_train)"
   ]
  },
  {
   "cell_type": "code",
   "execution_count": 20,
   "metadata": {},
   "outputs": [],
   "source": [
    "predicted_labels = svm_model.predict(X_test)\n"
   ]
  },
  {
   "cell_type": "code",
   "execution_count": 21,
   "metadata": {
    "scrolled": true
   },
   "outputs": [
    {
     "name": "stdout",
     "output_type": "stream",
     "text": [
      "SVM accuracy score : \n",
      "0.9715\n"
     ]
    }
   ],
   "source": [
    "print(\"SVM accuracy score : \")\n",
    "print(accuracy_score(y_test, predicted_labels))"
   ]
  },
  {
   "cell_type": "code",
   "execution_count": 3,
   "metadata": {},
   "outputs": [],
   "source": [
    "param_grid = [\n",
    "  {'C': [1, 10, 100, 1000], 'kernel': ['linear']},\n",
    "  {'C': [1, 10, 100, 1000], 'gamma': [0.001, 0.0001], 'kernel': ['rbf']},\n",
    " ]"
   ]
  },
  {
   "cell_type": "code",
   "execution_count": 8,
   "metadata": {},
   "outputs": [],
   "source": [
    "parameters = {'kernel':('linear', 'rbf'), 'C':[1, 10, 100],'gamma': [0.001, 0.0001]}"
   ]
  },
  {
   "cell_type": "code",
   "execution_count": 9,
   "metadata": {},
   "outputs": [],
   "source": [
    "opt_model = GridSearchCV(cv=5,estimator=svm.SVC(),param_grid=parameters)"
   ]
  },
  {
   "cell_type": "code",
   "execution_count": 11,
   "metadata": {},
   "outputs": [
    {
     "data": {
      "text/plain": [
       "GridSearchCV(cv=5, error_score='raise',\n",
       "       estimator=SVC(C=1.0, cache_size=200, class_weight=None, coef0=0.0,\n",
       "  decision_function_shape='ovr', degree=3, gamma='auto', kernel='rbf',\n",
       "  max_iter=-1, probability=False, random_state=None, shrinking=True,\n",
       "  tol=0.001, verbose=False),\n",
       "       fit_params=None, iid=True, n_jobs=1,\n",
       "       param_grid={'kernel': ('linear', 'rbf'), 'C': [1, 10, 100], 'gamma': [0.001, 0.0001]},\n",
       "       pre_dispatch='2*n_jobs', refit=True, return_train_score='warn',\n",
       "       scoring=None, verbose=0)"
      ]
     },
     "execution_count": 11,
     "metadata": {},
     "output_type": "execute_result"
    }
   ],
   "source": [
    "opt_model.fit(X_train[0:10000,:],y_train[0:10000])"
   ]
  },
  {
   "cell_type": "code",
   "execution_count": 12,
   "metadata": {},
   "outputs": [
    {
     "name": "stderr",
     "output_type": "stream",
     "text": [
      "/anaconda3/lib/python3.6/site-packages/sklearn/utils/deprecation.py:122: FutureWarning: You are accessing a training score ('split0_train_score'), which will not be available by default any more in 0.21. If you need training scores, please set return_train_score=True\n",
      "  warnings.warn(*warn_args, **warn_kwargs)\n",
      "/anaconda3/lib/python3.6/site-packages/sklearn/utils/deprecation.py:122: FutureWarning: You are accessing a training score ('split1_train_score'), which will not be available by default any more in 0.21. If you need training scores, please set return_train_score=True\n",
      "  warnings.warn(*warn_args, **warn_kwargs)\n",
      "/anaconda3/lib/python3.6/site-packages/sklearn/utils/deprecation.py:122: FutureWarning: You are accessing a training score ('split2_train_score'), which will not be available by default any more in 0.21. If you need training scores, please set return_train_score=True\n",
      "  warnings.warn(*warn_args, **warn_kwargs)\n",
      "/anaconda3/lib/python3.6/site-packages/sklearn/utils/deprecation.py:122: FutureWarning: You are accessing a training score ('split3_train_score'), which will not be available by default any more in 0.21. If you need training scores, please set return_train_score=True\n",
      "  warnings.warn(*warn_args, **warn_kwargs)\n",
      "/anaconda3/lib/python3.6/site-packages/sklearn/utils/deprecation.py:122: FutureWarning: You are accessing a training score ('split4_train_score'), which will not be available by default any more in 0.21. If you need training scores, please set return_train_score=True\n",
      "  warnings.warn(*warn_args, **warn_kwargs)\n",
      "/anaconda3/lib/python3.6/site-packages/sklearn/utils/deprecation.py:122: FutureWarning: You are accessing a training score ('mean_train_score'), which will not be available by default any more in 0.21. If you need training scores, please set return_train_score=True\n",
      "  warnings.warn(*warn_args, **warn_kwargs)\n",
      "/anaconda3/lib/python3.6/site-packages/sklearn/utils/deprecation.py:122: FutureWarning: You are accessing a training score ('std_train_score'), which will not be available by default any more in 0.21. If you need training scores, please set return_train_score=True\n",
      "  warnings.warn(*warn_args, **warn_kwargs)\n"
     ]
    },
    {
     "data": {
      "text/plain": [
       "{'mean_fit_time': array([  9.60221272,  27.20889168,   9.43715773, 375.49391718,\n",
       "         37.1121911 ,  12.77032676,   9.67903633,  26.52306662,\n",
       "          9.6210505 ,  10.06487179,   9.61932907,  12.25459766]),\n",
       " 'std_fit_time': array([1.73923106e-01, 2.88492444e-01, 1.03689198e-01, 4.32384443e+02,\n",
       "        2.80038919e+01, 2.39225920e-01, 3.00435332e-01, 2.98432269e-01,\n",
       "        1.91722950e-01, 1.01539157e-01, 1.66001238e-01, 1.44474037e-01]),\n",
       " 'mean_score_time': array([ 3.99588737,  8.27508245,  3.93612118, 15.2850019 , 22.95335498,\n",
       "         5.00113835,  4.0531292 ,  8.13256454,  3.96013017,  4.22655592,\n",
       "         3.98096476,  4.9324584 ]),\n",
       " 'std_score_time': array([1.21753575e-01, 3.83574870e-02, 4.10048220e-02, 4.47947336e+00,\n",
       "        3.78918562e+01, 7.50249095e-02, 1.52918460e-01, 3.70471231e-02,\n",
       "        4.11755213e-02, 1.28111605e-01, 3.12017242e-02, 7.90479888e-02]),\n",
       " 'param_C': masked_array(data=[1, 1, 1, 1, 10, 10, 10, 10, 100, 100, 100, 100],\n",
       "              mask=[False, False, False, False, False, False, False, False,\n",
       "                    False, False, False, False],\n",
       "        fill_value='?',\n",
       "             dtype=object),\n",
       " 'param_gamma': masked_array(data=[0.001, 0.001, 0.0001, 0.0001, 0.001, 0.001, 0.0001,\n",
       "                    0.0001, 0.001, 0.001, 0.0001, 0.0001],\n",
       "              mask=[False, False, False, False, False, False, False, False,\n",
       "                    False, False, False, False],\n",
       "        fill_value='?',\n",
       "             dtype=object),\n",
       " 'param_kernel': masked_array(data=['linear', 'rbf', 'linear', 'rbf', 'linear', 'rbf',\n",
       "                    'linear', 'rbf', 'linear', 'rbf', 'linear', 'rbf'],\n",
       "              mask=[False, False, False, False, False, False, False, False,\n",
       "                    False, False, False, False],\n",
       "        fill_value='?',\n",
       "             dtype=object),\n",
       " 'params': [{'C': 1, 'gamma': 0.001, 'kernel': 'linear'},\n",
       "  {'C': 1, 'gamma': 0.001, 'kernel': 'rbf'},\n",
       "  {'C': 1, 'gamma': 0.0001, 'kernel': 'linear'},\n",
       "  {'C': 1, 'gamma': 0.0001, 'kernel': 'rbf'},\n",
       "  {'C': 10, 'gamma': 0.001, 'kernel': 'linear'},\n",
       "  {'C': 10, 'gamma': 0.001, 'kernel': 'rbf'},\n",
       "  {'C': 10, 'gamma': 0.0001, 'kernel': 'linear'},\n",
       "  {'C': 10, 'gamma': 0.0001, 'kernel': 'rbf'},\n",
       "  {'C': 100, 'gamma': 0.001, 'kernel': 'linear'},\n",
       "  {'C': 100, 'gamma': 0.001, 'kernel': 'rbf'},\n",
       "  {'C': 100, 'gamma': 0.0001, 'kernel': 'linear'},\n",
       "  {'C': 100, 'gamma': 0.0001, 'kernel': 'rbf'}],\n",
       " 'split0_test_score': array([0.90618762, 0.91017964, 0.90618762, 0.8238523 , 0.90618762,\n",
       "        0.93413174, 0.90618762, 0.90918164, 0.90618762, 0.93912176,\n",
       "        0.90618762, 0.92914172]),\n",
       " 'split1_test_score': array([0.92807193, 0.92107892, 0.92807193, 0.83166833, 0.92057942,\n",
       "        0.94555445, 0.92057942, 0.91858142, 0.92057942, 0.95004995,\n",
       "        0.92057942, 0.94155844]),\n",
       " 'split2_test_score': array([0.9175, 0.9125, 0.9175, 0.85  , 0.912 , 0.9425, 0.912 , 0.91  ,\n",
       "        0.912 , 0.946 , 0.912 , 0.9345]),\n",
       " 'split3_test_score': array([0.91341341, 0.91141141, 0.91341341, 0.82832833, 0.90990991,\n",
       "        0.93093093, 0.90990991, 0.91041041, 0.90990991, 0.93493493,\n",
       "        0.90990991, 0.92692693]),\n",
       " 'split4_test_score': array([0.90531062, 0.8992986 , 0.90531062, 0.83066132, 0.90280561,\n",
       "        0.9248497 , 0.90280561, 0.89779559, 0.90280561, 0.92835671,\n",
       "        0.90280561, 0.91983968]),\n",
       " 'mean_test_score': array([0.9141, 0.9109, 0.9141, 0.8329, 0.9103, 0.9356, 0.9103, 0.9092,\n",
       "        0.9103, 0.9397, 0.9103, 0.9304]),\n",
       " 'std_test_score': array([0.00833391, 0.00694807, 0.00833391, 0.00896475, 0.00603014,\n",
       "        0.00756408, 0.00603014, 0.0066333 , 0.00603014, 0.00772463,\n",
       "        0.00603014, 0.00729903]),\n",
       " 'rank_test_score': array([ 4,  6,  4, 12,  7,  2,  7, 11,  7,  1,  7,  3], dtype=int32),\n",
       " 'split0_train_score': array([0.99837419, 0.92146073, 0.99837419, 0.84292146, 1.        ,\n",
       "        0.96073037, 1.        , 0.91933467, 1.        , 0.99449725,\n",
       "        1.        , 0.95585293]),\n",
       " 'split1_train_score': array([0.99824956, 0.91947987, 0.99824956, 0.83495874, 1.        ,\n",
       "        0.95723931, 1.        , 0.91672918, 1.        , 0.99499875,\n",
       "        1.        , 0.95236309]),\n",
       " 'split2_train_score': array([0.99825 , 0.922625, 0.99825 , 0.834375, 1.      , 0.959125,\n",
       "        1.      , 0.920625, 1.      , 0.995375, 1.      , 0.953125]),\n",
       " 'split3_train_score': array([0.99837541, 0.92339415, 0.99837541, 0.83991502, 1.        ,\n",
       "        0.96025994, 1.        , 0.92089478, 1.        , 0.99475131,\n",
       "        1.        , 0.95488628]),\n",
       " 'split4_train_score': array([0.998001  , 0.92428786, 0.998001  , 0.83833083, 1.        ,\n",
       "        0.96201899, 1.        , 0.92228886, 1.        , 0.99537731,\n",
       "        1.        , 0.95564718]),\n",
       " 'mean_train_score': array([0.99825003, 0.92224952, 0.99825003, 0.83810021, 1.        ,\n",
       "        0.95987472, 1.        , 0.9199745 , 1.        , 0.99499992,\n",
       "        1.        , 0.95437489]),\n",
       " 'std_train_score': array([0.00013649, 0.00166728, 0.00013649, 0.00317292, 0.        ,\n",
       "        0.00161158, 0.        , 0.00187445, 0.        , 0.00034572,\n",
       "        0.        , 0.001391  ])}"
      ]
     },
     "execution_count": 12,
     "metadata": {},
     "output_type": "execute_result"
    }
   ],
   "source": [
    "opt_model.cv_results_"
   ]
  },
  {
   "cell_type": "code",
   "execution_count": 60,
   "metadata": {},
   "outputs": [],
   "source": [
    "best_svm = opt_model.best_estimator_"
   ]
  },
  {
   "cell_type": "code",
   "execution_count": 44,
   "metadata": {},
   "outputs": [
    {
     "data": {
      "text/plain": [
       "SVC(C=100, cache_size=200, class_weight=None, coef0=0.0,\n",
       "  decision_function_shape='ovr', degree=3, gamma=0.001, kernel='rbf',\n",
       "  max_iter=-1, probability=False, random_state=None, shrinking=True,\n",
       "  tol=0.001, verbose=False)"
      ]
     },
     "execution_count": 44,
     "metadata": {},
     "output_type": "execute_result"
    }
   ],
   "source": [
    "best_svm.fit(X_train,y_train)"
   ]
  },
  {
   "cell_type": "code",
   "execution_count": 45,
   "metadata": {},
   "outputs": [],
   "source": [
    "predicted_labels = best_svm.predict(X_test)"
   ]
  },
  {
   "cell_type": "code",
   "execution_count": 46,
   "metadata": {},
   "outputs": [
    {
     "name": "stdout",
     "output_type": "stream",
     "text": [
      "SVM accuracy score MNIST\n",
      "0.9715\n"
     ]
    }
   ],
   "source": [
    "print(\"SVM accuracy score MNIST\")\n",
    "print(accuracy_score(y_test, predicted_labels))"
   ]
  },
  {
   "cell_type": "code",
   "execution_count": 47,
   "metadata": {},
   "outputs": [],
   "source": [
    "predicted_labels = best_svm.predict(X_USPS)"
   ]
  },
  {
   "cell_type": "code",
   "execution_count": 48,
   "metadata": {},
   "outputs": [
    {
     "name": "stdout",
     "output_type": "stream",
     "text": [
      "SVM accuracy score USPS: \n",
      "0.3530176508825441\n"
     ]
    }
   ],
   "source": [
    "print(\"SVM accuracy score USPS: \")\n",
    "print(accuracy_score(y_USPS, predicted_labels))"
   ]
  },
  {
   "cell_type": "code",
   "execution_count": 58,
   "metadata": {},
   "outputs": [
    {
     "name": "stdout",
     "output_type": "stream",
     "text": [
      "0.9704\n"
     ]
    }
   ],
   "source": [
    "rf_clf=RandomForestClassifier(n_estimators=150)\n",
    "\n",
    "#Train the model using the training sets y_pred=clf.predict(X_test)\n",
    "rf_clf.fit(X_train,y_train)\n",
    "\n",
    "y_pred=rf_clf.predict(X_test)\n",
    "print(accuracy_score(y_test, y_pred))"
   ]
  },
  {
   "cell_type": "code",
   "execution_count": 59,
   "metadata": {},
   "outputs": [
    {
     "name": "stdout",
     "output_type": "stream",
     "text": [
      "0.3992199609980499\n"
     ]
    }
   ],
   "source": [
    "y_pred = rf_clf.predict(X_USPS)\n",
    "print(accuracy_score(y_USPS, y_pred))"
   ]
  },
  {
   "cell_type": "code",
   "execution_count": 54,
   "metadata": {},
   "outputs": [
    {
     "data": {
      "application/vnd.jupyter.widget-view+json": {
       "model_id": "c857227a4e384135a1f38ded45638d06",
       "version_major": 2,
       "version_minor": 0
      },
      "text/plain": [
       "HBox(children=(IntProgress(value=0, max=15), HTML(value='')))"
      ]
     },
     "metadata": {},
     "output_type": "display_data"
    },
    {
     "name": "stdout",
     "output_type": "stream",
     "text": [
      "\n"
     ]
    }
   ],
   "source": [
    "cv_accuracies = []\n",
    "for n in tqdm_notebook(range(10,160,10)):\n",
    "    rf_clf=RandomForestClassifier(n_estimators=n)\n",
    "    #Train the model using the training sets y_pred=clf.predict(X_test)\n",
    "    rf_clf.fit(X_train,y_train)\n",
    "    y_pred=rf_clf.predict(X_cv)\n",
    "    cv_accuracies.append(accuracy_score(y_cv, y_pred))"
   ]
  },
  {
   "cell_type": "code",
   "execution_count": 57,
   "metadata": {},
   "outputs": [
    {
     "data": {
      "text/plain": [
       "[<matplotlib.lines.Line2D at 0x1a17779e48>]"
      ]
     },
     "execution_count": 57,
     "metadata": {},
     "output_type": "execute_result"
    },
    {
     "data": {
      "image/png": "[encoded data removed]",
      "text/plain": [
       "<Figure size 432x288 with 1 Axes>"
      ]
     },
     "metadata": {},
     "output_type": "display_data"
    }
   ],
   "source": [
    "plt.plot(range(10,160,10),cv_accuracies)"
   ]
  },
  {
   "cell_type": "code",
   "execution_count": null,
   "metadata": {},
   "outputs": [],
   "source": []
  }
 ],
 "metadata": {
  "kernelspec": {
   "display_name": "Python 3",
   "language": "python",
   "name": "python3"
  },
  "language_info": {
   "codemirror_mode": {
    "name": "ipython",
    "version": 3
   },
   "file_extension": ".py",
   "mimetype": "text/x-python",
   "name": "python",
   "nbconvert_exporter": "python",
   "pygments_lexer": "ipython3",
   "version": "3.6.5"
  }
 },
 "nbformat": 4,
 "nbformat_minor": 2
}
